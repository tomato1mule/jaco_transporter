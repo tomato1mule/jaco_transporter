{
 "cells": [
  {
   "cell_type": "code",
   "execution_count": 1,
   "metadata": {},
   "outputs": [],
   "source": [
    "import torch\n",
    "from torchvision import transforms\n",
    "import torch.nn.functional as F\n",
    "\n",
    "import numpy as np\n",
    "import matplotlib.pyplot as plt\n",
    "from PIL import Image, ImageDraw"
   ]
  },
  {
   "cell_type": "markdown",
   "metadata": {},
   "source": [
    "# Hyperparam"
   ]
  },
  {
   "cell_type": "code",
   "execution_count": 2,
   "metadata": {},
   "outputs": [],
   "source": [
    "C,H,W = 3, 320, 480\n",
    "\n",
    "device = 'cpu'"
   ]
  },
  {
   "cell_type": "code",
   "execution_count": 3,
   "metadata": {},
   "outputs": [],
   "source": [
    "def t2i(o):\n",
    "    o = o.detach().cpu()\n",
    "    o = o.permute(1,2,0)\n",
    "    return Image.fromarray(np.array(o).astype(np.uint8))\n",
    "\n",
    "def drawCircle(img, r, coord,color='blue'):\n",
    "    img = img.copy()\n",
    "    h, w = coord\n",
    "    draw = ImageDraw.Draw(img)\n",
    "    draw.ellipse((w-r, h-r, w+r, h+r), fill = color)\n",
    "    return img\n",
    "\n",
    "def drawRect(img, size, coord, color='blue'):\n",
    "    img = img.copy()\n",
    "    h, w = coord\n",
    "    Lh, Lw = size\n",
    "    draw = ImageDraw.Draw(img)\n",
    "    draw.rectangle((w-(Lw/2), h-(Lh/2), w+(Lw/2), h+(Lh/2)), fill = color)\n",
    "    return img\n",
    "\n",
    "def drawCircle(img, D, coord, color='blue'):\n",
    "    r = D/2\n",
    "    img = img.copy()\n",
    "    h, w = coord\n",
    "    draw = ImageDraw.Draw(img)\n",
    "    draw.ellipse((w-r, h-r, w+r, h+r), fill = color)\n",
    "    return img"
   ]
  },
  {
   "cell_type": "code",
   "execution_count": null,
   "metadata": {},
   "outputs": [],
   "source": []
  },
  {
   "cell_type": "code",
   "execution_count": null,
   "metadata": {},
   "outputs": [],
   "source": []
  },
  {
   "cell_type": "markdown",
   "metadata": {},
   "source": [
    "# Draw world"
   ]
  },
  {
   "cell_type": "code",
   "execution_count": 4,
   "metadata": {},
   "outputs": [],
   "source": [
    "def draw_world(obj, goal):\n",
    "    objL = 50\n",
    "    goalL = 70\n",
    "    o = torch.zeros(C, H, W)\n",
    "    img = t2i(o)\n",
    "    img = drawRect(img, (goalL,goalL), (goal[0],goal[1]), 'green')\n",
    "    img = drawCircle(img, objL, (obj[0],obj[1]), 'red')\n",
    "    return img"
   ]
  },
  {
   "cell_type": "code",
   "execution_count": null,
   "metadata": {},
   "outputs": [],
   "source": []
  },
  {
   "cell_type": "code",
   "execution_count": null,
   "metadata": {},
   "outputs": [],
   "source": []
  },
  {
   "cell_type": "markdown",
   "metadata": {},
   "source": [
    "# Init Model"
   ]
  },
  {
   "cell_type": "code",
   "execution_count": 5,
   "metadata": {},
   "outputs": [
    {
     "name": "stderr",
     "output_type": "stream",
     "text": [
      "Using cache found in /home/hw/.cache/torch/hub/pytorch_vision_v0.10.0\n"
     ]
    }
   ],
   "source": [
    "#https://pytorch.org/hub/pytorch_vision_fcn_resnet101/\n",
    "model = torch.hub.load('pytorch/vision:v0.10.0', 'fcn_resnet50', pretrained=False)\n",
    "model.classifier[4] = torch.nn.Conv2d(512, 1, kernel_size = (1,1), stride = (1,1))\n",
    "model = model.to(device)"
   ]
  },
  {
   "cell_type": "code",
   "execution_count": 6,
   "metadata": {},
   "outputs": [],
   "source": [
    "lr = 1e-3\n",
    "\n",
    "# Optimizer\n",
    "params = model.parameters()\n",
    "\n",
    "optimizer = torch.optim.Adam(params, \n",
    "                             lr=lr,\n",
    "                             betas=(0.9, 0.98),\n",
    "                             eps=1e-09, \n",
    "                             weight_decay=1e-4, \n",
    "                             amsgrad=True)"
   ]
  },
  {
   "cell_type": "code",
   "execution_count": null,
   "metadata": {},
   "outputs": [],
   "source": []
  },
  {
   "cell_type": "code",
   "execution_count": null,
   "metadata": {},
   "outputs": [],
   "source": []
  },
  {
   "cell_type": "code",
   "execution_count": null,
   "metadata": {},
   "outputs": [],
   "source": []
  },
  {
   "cell_type": "code",
   "execution_count": null,
   "metadata": {},
   "outputs": [],
   "source": []
  },
  {
   "cell_type": "markdown",
   "metadata": {},
   "source": [
    "# Collect demo"
   ]
  },
  {
   "cell_type": "code",
   "execution_count": 7,
   "metadata": {},
   "outputs": [],
   "source": [
    "preprocess = transforms.Compose([\n",
    "    transforms.ToTensor(),\n",
    "    transforms.Normalize(mean=[0.485, 0.456, 0.406], std=[0.229, 0.224, 0.225]),\n",
    "])"
   ]
  },
  {
   "cell_type": "code",
   "execution_count": 8,
   "metadata": {},
   "outputs": [],
   "source": [
    "n_demos = 1"
   ]
  },
  {
   "cell_type": "code",
   "execution_count": 9,
   "metadata": {},
   "outputs": [],
   "source": [
    "demos = []\n",
    "\n",
    "for _ in range(n_demos):\n",
    "    offset = 0.1\n",
    "    \n",
    "    obj = (torch.rand(2) * (1 - 2*offset) + offset) * torch.tensor([H,W])\n",
    "    #goal = (torch.rand(2) * (1 - 2*offset) + offset) * torch.tensor([H,W])\n",
    "    goal = torch.tensor([0.8, 0.8]) * torch.tensor([H,W])\n",
    "    img = draw_world(obj, goal)\n",
    "    \n",
    "    demos.append({'img':img, \n",
    "                  'o':preprocess(img),\n",
    "                  'obj':obj,\n",
    "                  'goal':goal})"
   ]
  },
  {
   "cell_type": "code",
   "execution_count": 10,
   "metadata": {},
   "outputs": [
    {
     "data": {
      "image/png": "[encoded data removed]",
      "text/plain": [
       "<PIL.Image.Image image mode=RGB size=480x320 at 0x7FDAC94E61F0>"
      ]
     },
     "execution_count": 10,
     "metadata": {},
     "output_type": "execute_result"
    }
   ],
   "source": [
    "demos[0]['img']"
   ]
  },
  {
   "cell_type": "code",
   "execution_count": null,
   "metadata": {},
   "outputs": [],
   "source": []
  },
  {
   "cell_type": "code",
   "execution_count": null,
   "metadata": {},
   "outputs": [],
   "source": []
  },
  {
   "cell_type": "code",
   "execution_count": null,
   "metadata": {},
   "outputs": [],
   "source": []
  },
  {
   "cell_type": "code",
   "execution_count": null,
   "metadata": {},
   "outputs": [],
   "source": []
  },
  {
   "cell_type": "code",
   "execution_count": null,
   "metadata": {},
   "outputs": [],
   "source": []
  },
  {
   "cell_type": "markdown",
   "metadata": {},
   "source": [
    "# Prepare Input"
   ]
  },
  {
   "cell_type": "code",
   "execution_count": 11,
   "metadata": {},
   "outputs": [],
   "source": [
    "Os = []\n",
    "targets = []\n",
    "\n",
    "for demo in demos:\n",
    "    Os.append(demo['o'])\n",
    "    targets.append(demo['obj'].type(torch.int64))\n",
    "    \n",
    "Os = torch.stack(Os,axis=0).to(device)\n",
    "targets = torch.stack(targets,axis=0).to(device)"
   ]
  },
  {
   "cell_type": "code",
   "execution_count": null,
   "metadata": {},
   "outputs": [],
   "source": []
  },
  {
   "cell_type": "markdown",
   "metadata": {},
   "source": [
    "# Train"
   ]
  },
  {
   "cell_type": "code",
   "execution_count": null,
   "metadata": {},
   "outputs": [],
   "source": []
  },
  {
   "cell_type": "code",
   "execution_count": null,
   "metadata": {},
   "outputs": [],
   "source": []
  },
  {
   "cell_type": "code",
   "execution_count": 12,
   "metadata": {},
   "outputs": [],
   "source": [
    "optimizer.zero_grad()"
   ]
  },
  {
   "cell_type": "code",
   "execution_count": 13,
   "metadata": {},
   "outputs": [],
   "source": [
    "t = model(Os)['out'].squeeze(1)"
   ]
  },
  {
   "cell_type": "code",
   "execution_count": 14,
   "metadata": {},
   "outputs": [],
   "source": [
    "V = F.log_softmax(t.view(t.shape[0],-1),dim=-1).reshape(t.shape)"
   ]
  },
  {
   "cell_type": "code",
   "execution_count": 15,
   "metadata": {},
   "outputs": [],
   "source": [
    "Vh = V.gather(dim=1, index=targets[:,0].unsqueeze(-1).unsqueeze(-1).expand(-1,1,W))"
   ]
  },
  {
   "cell_type": "code",
   "execution_count": 16,
   "metadata": {},
   "outputs": [],
   "source": [
    "V_targets = Vh.squeeze(1).gather(dim=1, index=targets[:,1].unsqueeze(-1).type(torch.int64))"
   ]
  },
  {
   "cell_type": "code",
   "execution_count": 17,
   "metadata": {},
   "outputs": [],
   "source": [
    "loss = (-1 * V_targets.mean())"
   ]
  },
  {
   "cell_type": "code",
   "execution_count": 18,
   "metadata": {},
   "outputs": [],
   "source": [
    "loss.backward()"
   ]
  },
  {
   "cell_type": "code",
   "execution_count": 19,
   "metadata": {},
   "outputs": [],
   "source": [
    "optimizer.step()"
   ]
  },
  {
   "cell_type": "code",
   "execution_count": null,
   "metadata": {},
   "outputs": [],
   "source": []
  },
  {
   "cell_type": "code",
   "execution_count": null,
   "metadata": {},
   "outputs": [],
   "source": []
  },
  {
   "cell_type": "code",
   "execution_count": null,
   "metadata": {},
   "outputs": [],
   "source": []
  },
  {
   "cell_type": "code",
   "execution_count": null,
   "metadata": {},
   "outputs": [],
   "source": []
  },
  {
   "cell_type": "markdown",
   "metadata": {},
   "source": [
    "# Test"
   ]
  },
  {
   "cell_type": "code",
   "execution_count": 20,
   "metadata": {},
   "outputs": [],
   "source": [
    "n_tests = 5\n",
    "\n",
    "test_demos = []\n",
    "\n",
    "for _ in range(n_tests):\n",
    "    offset = 0.1\n",
    "    \n",
    "    obj = (torch.rand(2) * (1 - 2*offset) + offset) * torch.tensor([H,W])\n",
    "    #goal = (torch.rand(2) * (1 - 2*offset) + offset) * torch.tensor([H,W])\n",
    "    goal = torch.tensor([0.8, 0.8]) * torch.tensor([H,W])\n",
    "    img = draw_world(obj, goal)\n",
    "    \n",
    "    test_demos.append({'img':img, \n",
    "                  'o':preprocess(img),\n",
    "                  'obj':obj,\n",
    "                  'goal':goal})"
   ]
  },
  {
   "cell_type": "code",
   "execution_count": 21,
   "metadata": {},
   "outputs": [],
   "source": [
    "o_test = []\n",
    "gt = []\n",
    "\n",
    "for demo in test_demos:\n",
    "    o_test.append(demo['o'])\n",
    "    gt.append(demo['obj'].type(torch.int64))\n",
    "    \n",
    "o_test = torch.stack(o_test,axis=0).to(device)\n",
    "gt = torch.stack(gt,axis=0).to(device)"
   ]
  },
  {
   "cell_type": "code",
   "execution_count": null,
   "metadata": {},
   "outputs": [],
   "source": []
  },
  {
   "cell_type": "code",
   "execution_count": null,
   "metadata": {},
   "outputs": [],
   "source": []
  },
  {
   "cell_type": "code",
   "execution_count": null,
   "metadata": {},
   "outputs": [],
   "source": []
  },
  {
   "cell_type": "code",
   "execution_count": 22,
   "metadata": {},
   "outputs": [],
   "source": [
    "with torch.no_grad():\n",
    "    t_test = model(o_test)['out'].squeeze(1)\n",
    "    V = F.softmax(t_test.view(t_test.shape[0],-1),dim=-1).reshape(t_test.shape)"
   ]
  },
  {
   "cell_type": "code",
   "execution_count": null,
   "metadata": {},
   "outputs": [],
   "source": []
  },
  {
   "cell_type": "code",
   "execution_count": 27,
   "metadata": {},
   "outputs": [
    {
     "data": {
      "image/png": "[encoded data removed]",
      "text/plain": [
       "<Figure size 432x288 with 1 Axes>"
      ]
     },
     "metadata": {
      "needs_background": "light"
     },
     "output_type": "display_data"
    },
    {
     "data": {
      "image/png": "[encoded data removed]",
      "text/plain": [
       "<PIL.Image.Image image mode=RGB size=480x320 at 0x7FDA070CEB20>"
      ]
     },
     "execution_count": 27,
     "metadata": {},
     "output_type": "execute_result"
    }
   ],
   "source": [
    "test_idx = 4\n",
    "plt.imshow(V[test_idx].detach().numpy())\n",
    "plt.show()\n",
    "test_demos[test_idx]['img']"
   ]
  },
  {
   "cell_type": "code",
   "execution_count": null,
   "metadata": {},
   "outputs": [],
   "source": []
  },
  {
   "cell_type": "code",
   "execution_count": null,
   "metadata": {},
   "outputs": [],
   "source": []
  },
  {
   "cell_type": "code",
   "execution_count": null,
   "metadata": {},
   "outputs": [],
   "source": []
  },
  {
   "cell_type": "code",
   "execution_count": null,
   "metadata": {},
   "outputs": [],
   "source": []
  }
 ],
 "metadata": {
  "kernelspec": {
   "display_name": "Python 3",
   "language": "python",
   "name": "python3"
  },
  "language_info": {
   "codemirror_mode": {
    "name": "ipython",
    "version": 3
   },
   "file_extension": ".py",
   "mimetype": "text/x-python",
   "name": "python",
   "nbconvert_exporter": "python",
   "pygments_lexer": "ipython3",
   "version": "3.8.10"
  }
 },
 "nbformat": 4,
 "nbformat_minor": 4
}
